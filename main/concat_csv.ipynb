{
 "cells": [
  {
   "cell_type": "code",
   "execution_count": 5,
   "id": "e4695fc7-920a-4ed9-8b8e-5d9143aea4bc",
   "metadata": {},
   "outputs": [],
   "source": [
    "import pandas as pd\n",
    "import os\n",
    "\n",
    "# Directory where your CSV files are stored\n",
    "csv_dir = \"./csv\"\n",
    "\n",
    "# Get the list of CSV files\n",
    "csv_files = [f for f in os.listdir(csv_dir) if f.endswith('.csv')]\n",
    "\n",
    "# List to hold dataframes\n",
    "dfs = []\n",
    "dfss = []\n",
    "for csv_file in csv_files:\n",
    "    # Read the CSV file\n",
    "    df = pd.read_csv(csv_dir +'/'+ csv_file, header=None)\n",
    "    # Transpose the dataframe so that each value in the row becomes a row in the dataframe\n",
    "    # Append the dataframe to the list\n",
    "    dfs.append(df)\n",
    "    dfss.append(dfs)\n",
    "# Concatenate all dataframes vertically\n",
    "final_df = pd.concat(dfs, ignore_index=True)\n",
    "\n",
    "# Write the final dataframe to a new CSV file\n",
    "final_df.to_csv(csv_dir + 'combined.csv', index=False, header=False)"
   ]
  },
  {
   "cell_type": "code",
   "execution_count": null,
   "id": "904ec2d6-16ee-438c-8177-59b6dfb02350",
   "metadata": {},
   "outputs": [],
   "source": []
  }
 ],
 "metadata": {
  "kernelspec": {
   "display_name": "Python 3 (ipykernel)",
   "language": "python",
   "name": "python3"
  },
  "language_info": {
   "codemirror_mode": {
    "name": "ipython",
    "version": 3
   },
   "file_extension": ".py",
   "mimetype": "text/x-python",
   "name": "python",
   "nbconvert_exporter": "python",
   "pygments_lexer": "ipython3",
   "version": "3.8.10"
  }
 },
 "nbformat": 4,
 "nbformat_minor": 5
}
