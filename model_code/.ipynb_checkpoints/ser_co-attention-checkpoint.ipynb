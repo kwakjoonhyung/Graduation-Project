{
 "cells": [
  {
   "cell_type": "code",
   "execution_count": 59,
   "id": "f0a3c4bf-de1f-44ca-94b0-2b0a027fbe50",
   "metadata": {},
   "outputs": [],
   "source": [
    "# !git clone https://github.com/Vincent-ZHQ/CA-MSER.git"
   ]
  },
  {
   "cell_type": "code",
   "execution_count": 60,
   "id": "9376cd70-4337-42d2-88fd-8ba84b6adb49",
   "metadata": {},
   "outputs": [],
   "source": [
    "# !git lfs install\n",
    "# !git clone https://huggingface.co/facebook/wav2vec2-base-960h"
   ]
  },
  {
   "cell_type": "code",
   "execution_count": 1,
   "id": "ce50d848-ed21-4faf-9136-335b4ae1a670",
   "metadata": {},
   "outputs": [
    {
     "name": "stdout",
     "output_type": "stream",
     "text": [
      "1.13.1+cu117\n"
     ]
    }
   ],
   "source": [
    "import torch\n",
    "print(torch.__version__)"
   ]
  },
  {
   "cell_type": "code",
   "execution_count": 2,
   "id": "60b90752-6cb2-4519-9a8f-16b7a1b8650e",
   "metadata": {},
   "outputs": [],
   "source": [
    "# %cd features_extraction"
   ]
  },
  {
   "cell_type": "code",
   "execution_count": 3,
   "id": "98b5f99b-fa31-4d85-9b42-381827f71d9f",
   "metadata": {},
   "outputs": [],
   "source": [
    "# !pip install -r requirements.txt"
   ]
  },
  {
   "cell_type": "code",
   "execution_count": 4,
   "id": "f0c01154-0a8a-4614-9e95-30a7b6814c3a",
   "metadata": {},
   "outputs": [
    {
     "name": "stdout",
     "output_type": "stream",
     "text": [
      "Device: cuda\n",
      "Current cuda device: 0\n",
      "Count of using GPUs: 1\n"
     ]
    }
   ],
   "source": [
    "import os\n",
    "import torch\n",
    "\n",
    "os.environ[\"CUDA_DEVICE_ORDER\"]=\"PCI_BUS_ID\"  # Arrange GPU devices starting from 0\n",
    "os.environ[\"CUDA_VISIBLE_DEVICES\"]= \"5\"  # Set the GPU 5 to use\n",
    "\n",
    "device = 'cuda' if torch.cuda.is_available() else 'cpu'\n",
    "print('Device:', device)\n",
    "print('Current cuda device:', torch.cuda.current_device())\n",
    "print('Count of using GPUs:', torch.cuda.device_count())\n",
    "\n",
    "torch.manual_seed(777)\n",
    "if device =='cuda':\n",
    "    torch.cuda.manual_seed_all(777)"
   ]
  },
  {
   "cell_type": "code",
   "execution_count": 5,
   "id": "82ec547a-4d61-4ac2-a6a8-d048e322a4ff",
   "metadata": {},
   "outputs": [],
   "source": [
    "# !python3 extract_features.py"
   ]
  },
  {
   "cell_type": "code",
   "execution_count": 6,
   "id": "3138f8dc-10fe-4292-bba7-9d645740141d",
   "metadata": {},
   "outputs": [],
   "source": [
    "# !python3 extract_features.py --dataset OUR --dataset_dir ./test --features logspec --window hamming --win_length 40 --hop_length 10 --ndft 1920 --nfreq 200 --nmel 128 --segment_size 1987 --save_dir ./save --save_label multi345"
   ]
  },
  {
   "cell_type": "code",
   "execution_count": 7,
   "id": "b87d0d54-f52f-49e6-a2b7-75dcef356d40",
   "metadata": {},
   "outputs": [
    {
     "name": "stdout",
     "output_type": "stream",
     "text": [
      "/home/jupyterlab/DI_LAB/Speech/CA-MSER\n"
     ]
    }
   ],
   "source": [
    "%cd CA-MSER"
   ]
  },
  {
   "cell_type": "code",
   "execution_count": null,
   "id": "98d5b87c-bd91-4776-b26a-d894248da7c4",
   "metadata": {},
   "outputs": [],
   "source": [
    "!python3 crossval_SER.py"
   ]
  }
 ],
 "metadata": {
  "kernelspec": {
   "display_name": "Python 3 (ipykernel)",
   "language": "python",
   "name": "python3"
  },
  "language_info": {
   "codemirror_mode": {
    "name": "ipython",
    "version": 3
   },
   "file_extension": ".py",
   "mimetype": "text/x-python",
   "name": "python",
   "nbconvert_exporter": "python",
   "pygments_lexer": "ipython3",
   "version": "3.8.10"
  }
 },
 "nbformat": 4,
 "nbformat_minor": 5
}
