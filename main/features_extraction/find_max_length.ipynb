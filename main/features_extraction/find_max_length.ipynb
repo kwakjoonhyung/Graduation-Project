{
 "cells": [
  {
   "cell_type": "code",
   "execution_count": 16,
   "id": "0076d76b-2e7b-4a5b-afc3-e3aa62e9c6c5",
   "metadata": {},
   "outputs": [
    {
     "name": "stdout",
     "output_type": "stream",
     "text": [
      "max_x :  317912\n",
      "max_name :  0001_0001_G1A3E2S0C0_PSB_000114.wav\n"
     ]
    }
   ],
   "source": [
    "import os\n",
    "import librosa\n",
    "all_files = []\n",
    "max_x = 0\n",
    "for wav_file in os.listdir('./test'):\n",
    "    #omit non .wav files\n",
    "    name, ext = os.path.splitext(wav_file)\n",
    "    if ext != \".wav\":\n",
    "        continue\n",
    "    wav_path = name + ext\n",
    "    x, sr = librosa.load('./test/' + wav_path, sr=48000)\n",
    "    if max_x < x.shape[0]:\n",
    "        max_x = x.shape[0]\n",
    "        max_name = wav_path\n",
    "    \n",
    "    \n",
    "print(\"max_x : \",max_x)\n",
    "print(\"max_name : \",max_name)"
   ]
  },
  {
   "cell_type": "code",
   "execution_count": 15,
   "id": "075e1204-eecd-48aa-a655-b813d47abfc3",
   "metadata": {},
   "outputs": [
    {
     "name": "stdout",
     "output_type": "stream",
     "text": [
      "1986.95\n"
     ]
    }
   ],
   "source": [
    "print(317912/160)"
   ]
  },
  {
   "cell_type": "code",
   "execution_count": null,
   "id": "b92ce9ed-5ee4-4cf5-a540-f99768cab8e8",
   "metadata": {},
   "outputs": [],
   "source": []
  }
 ],
 "metadata": {
  "kernelspec": {
   "display_name": "Python 3 (ipykernel)",
   "language": "python",
   "name": "python3"
  },
  "language_info": {
   "codemirror_mode": {
    "name": "ipython",
    "version": 3
   },
   "file_extension": ".py",
   "mimetype": "text/x-python",
   "name": "python",
   "nbconvert_exporter": "python",
   "pygments_lexer": "ipython3",
   "version": "3.8.10"
  }
 },
 "nbformat": 4,
 "nbformat_minor": 5
}
